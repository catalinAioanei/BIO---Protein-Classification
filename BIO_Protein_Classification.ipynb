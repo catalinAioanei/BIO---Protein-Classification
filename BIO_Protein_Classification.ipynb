{
  "nbformat": 4,
  "nbformat_minor": 0,
  "metadata": {
    "colab": {
      "name": "BIO - Protein Classification.ipynb",
      "provenance": [],
      "collapsed_sections": [
        "hdz-MS2bCy0y",
        "JfplQ7cG_Vjq",
        "ZQAUvQLgJftw",
        "6YLgHnRz7EIZ"
      ],
      "machine_shape": "hm"
    },
    "kernelspec": {
      "name": "python3",
      "display_name": "Python 3"
    },
    "accelerator": "GPU"
  },
  "cells": [
    {
      "cell_type": "code",
      "metadata": {
        "id": "cEVaQR0Y9xmZ",
        "colab_type": "code",
        "colab": {}
      },
      "source": [
        "from google.colab import files\n",
        "import torch\n",
        "import torch.nn as nn\n",
        "import torch.nn.functional as F\n",
        "from torch.nn import Conv1d, Conv2d, Linear\n",
        "import torch.optim as optim\n",
        "import numpy as np\n",
        "import pandas as pd\n",
        "from scipy.special import expit\n",
        "from tqdm import tqdm\n",
        "import io\n",
        "import re\n",
        "from google.colab import files\n",
        "import math\n",
        "import random\n",
        "import gc\n",
        "import zipfile"
      ],
      "execution_count": 0,
      "outputs": []
    },
    {
      "cell_type": "code",
      "metadata": {
        "id": "JPFo5oj09416",
        "colab_type": "code",
        "colab": {}
      },
      "source": [
        "import nltk\n",
        "import spacy\n",
        "from sklearn.metrics import confusion_matrix\n",
        "import matplotlib.pyplot as plt\n",
        "from sklearn import metrics\n",
        "from nltk import agreement\n",
        "from nltk.stem import *\n",
        "from nltk.stem.snowball import SnowballStemmer\n",
        "from nltk.stem import WordNetLemmatizer\n",
        "from nltk.corpus import wordnet\n",
        "from nltk.corpus import stopwords\n",
        "from scipy.stats import spearmanr\n",
        "from torch.nn import CosineSimilarity\n",
        "from torch.nn import functional\n",
        "from collections import Counter\n",
        "from sklearn.metrics import matthews_corrcoef\n",
        "nltk.download(\"stopwords\")\n",
        "nltk.download(\"punkt\")\n",
        "nltk.download('averaged_perceptron_tagger')\n",
        "nltk.download('wordnet')"
      ],
      "execution_count": 0,
      "outputs": []
    },
    {
      "cell_type": "code",
      "metadata": {
        "id": "rX8QYLkS98C6",
        "colab_type": "code",
        "colab": {}
      },
      "source": [
        "%%shell\n",
        "pip install allennlp;"
      ],
      "execution_count": 0,
      "outputs": []
    },
    {
      "cell_type": "code",
      "metadata": {
        "id": "pjNee-um998p",
        "colab_type": "code",
        "colab": {}
      },
      "source": [
        "from typing import Iterator, List, Dict, Optional\n",
        "from allennlp.data import Instance\n",
        "from allennlp.data.fields import TextField, SequenceLabelField, LabelField, ArrayField\n",
        "from allennlp.data.dataset_readers import DatasetReader\n",
        "from allennlp.common.file_utils import cached_path\n",
        "from allennlp.common.util import START_SYMBOL, END_SYMBOL\n",
        "from allennlp.data.token_indexers import TokenIndexer, SingleIdTokenIndexer, PretrainedBertIndexer\n",
        "from allennlp.data.token_indexers.elmo_indexer import ELMoTokenCharactersIndexer\n",
        "from allennlp.data.tokenizers import Token\n",
        "from allennlp.data.vocabulary import Vocabulary\n",
        "from allennlp.nn.activations import Activation\n",
        "from allennlp.models import Model, BiattentiveClassificationNetwork\n",
        "from allennlp.modules.attention import LinearAttention, BilinearAttention, DotProductAttention\n",
        "from allennlp.modules.feedforward import FeedForward\n",
        "from allennlp.modules.text_field_embedders import TextFieldEmbedder, BasicTextFieldEmbedder\n",
        "from allennlp.modules.token_embedders.bert_token_embedder import PretrainedBertEmbedder\n",
        "from allennlp.models.encoder_decoders.simple_seq2seq import SimpleSeq2Seq\n",
        "from allennlp.modules.token_embedders import Embedding, ElmoTokenEmbedder\n",
        "from allennlp.modules.seq2seq_encoders import Seq2SeqEncoder, PytorchSeq2SeqWrapper, StackedSelfAttentionEncoder\n",
        "from allennlp.modules.seq2vec_encoders import Seq2VecEncoder, PytorchSeq2VecWrapper, CnnEncoder\n",
        "from allennlp.nn.util import get_text_field_mask, sequence_cross_entropy_with_logits\n",
        "from allennlp.training.metrics import CategoricalAccuracy\n",
        "from allennlp.nn.activations import Activation\n",
        "from allennlp.data.iterators import BucketIterator, BasicIterator, DataIterator\n",
        "from allennlp.training.trainer import Trainer\n",
        "from allennlp.predictors import SimpleSeq2SeqPredictor\n",
        "from allennlp.predictors.seq2seq import Seq2SeqPredictor\n",
        "from allennlp.nn import util as nn_util\n",
        "from allennlp.predictors import SentenceTaggerPredictor"
      ],
      "execution_count": 0,
      "outputs": []
    },
    {
      "cell_type": "code",
      "metadata": {
        "id": "y92fUgk69_xD",
        "colab_type": "code",
        "colab": {}
      },
      "source": [
        "device = torch.device(\"cuda:0\" if torch.cuda.is_available() else \"cpu\")\n",
        "torch.manual_seed(1);\n",
        "\n",
        "CUDA_DEVICE = 0"
      ],
      "execution_count": 0,
      "outputs": []
    },
    {
      "cell_type": "markdown",
      "metadata": {
        "id": "cmOaIQ5N-Asq",
        "colab_type": "text"
      },
      "source": [
        "# Data Loading and Preparation"
      ]
    },
    {
      "cell_type": "code",
      "metadata": {
        "id": "_D6CMQCy-C5a",
        "colab_type": "code",
        "colab": {}
      },
      "source": [
        "bio_path = \"/content/BIO---Protein-Classification/\""
      ],
      "execution_count": 0,
      "outputs": []
    },
    {
      "cell_type": "code",
      "metadata": {
        "id": "JC07u4NxWBC8",
        "colab_type": "code",
        "colab": {
          "base_uri": "https://localhost:8080/",
          "height": 119
        },
        "outputId": "cccb7e40-38d2-4240-8b88-a5496c5ad53c"
      },
      "source": [
        "!git clone https://github.com/catalinAioanei/BIO---Protein-Classification"
      ],
      "execution_count": 7,
      "outputs": [
        {
          "output_type": "stream",
          "text": [
            "Cloning into 'BIO---Protein-Classification'...\n",
            "remote: Enumerating objects: 7, done.\u001b[K\n",
            "remote: Counting objects:  14% (1/7)\u001b[K\rremote: Counting objects:  28% (2/7)\u001b[K\rremote: Counting objects:  42% (3/7)\u001b[K\rremote: Counting objects:  57% (4/7)\u001b[K\rremote: Counting objects:  71% (5/7)\u001b[K\rremote: Counting objects:  85% (6/7)\u001b[K\rremote: Counting objects: 100% (7/7)\u001b[K\rremote: Counting objects: 100% (7/7), done.\u001b[K\n",
            "remote: Compressing objects: 100% (7/7), done.\u001b[K\n",
            "remote: Total 7 (delta 0), reused 7 (delta 0), pack-reused 0\u001b[K\n",
            "Unpacking objects: 100% (7/7), done.\n"
          ],
          "name": "stdout"
        }
      ]
    },
    {
      "cell_type": "markdown",
      "metadata": {
        "id": "-_QBOA_3uZ5r",
        "colab_type": "text"
      },
      "source": [
        "#### Preparing the annotated proteins files"
      ]
    },
    {
      "cell_type": "code",
      "metadata": {
        "id": "4xWRXVnYZs01",
        "colab_type": "code",
        "colab": {}
      },
      "source": [
        "nucleus_proteins = open(bio_path + \"nucleus.fasta.txt\", 'r')\n",
        "nucleus_proteins = nucleus_proteins.read()\n",
        "nucleus_proteins = nucleus_proteins.split(\">sp\")[1:]\n",
        "nucleus_proteins = {\"Header\":[protein.split(\"\\n\", 1)[0] for protein in nucleus_proteins], \n",
        "                \"Sequence\": [protein.split(\"\\n\",1)[1].replace(\"\\n\", \"\") for protein in nucleus_proteins], \n",
        "                \"Label\": \"nucleus\"}\n",
        "nucleus_proteins = pd.DataFrame(nucleus_proteins)\n",
        "\n",
        "\n",
        "cito_proteins = open(bio_path + \"cito.fasta.txt\", 'r')\n",
        "cito_proteins = cito_proteins.read()\n",
        "cito_proteins = cito_proteins.split(\">sp\")[1:]\n",
        "cito_proteins = {\"Header\":[protein.split(\"\\n\", 1)[0] for protein in cito_proteins], \n",
        "                \"Sequence\": [protein.split(\"\\n\",1)[1].replace(\"\\n\", \"\") for protein in cito_proteins], \n",
        "                \"Label\": \"cito\"}\n",
        "cito_proteins = pd.DataFrame(cito_proteins)\n",
        "\n",
        "\n",
        "mito_proteins = open(bio_path + \"mito.fasta.txt\", 'r')\n",
        "mito_proteins = mito_proteins.read()\n",
        "mito_proteins = mito_proteins.split(\">sp\")[1:]\n",
        "mito_proteins = {\"Header\":[protein.split(\"\\n\", 1)[0] for protein in mito_proteins], \n",
        "                \"Sequence\": [protein.split(\"\\n\",1)[1].replace(\"\\n\", \"\") for protein in mito_proteins], \n",
        "                \"Label\": \"mito\"}\n",
        "mito_proteins = pd.DataFrame(mito_proteins)\n",
        "\n",
        "\n",
        "secreted_proteins = open(bio_path + \"secreted.fasta.txt\", 'r')\n",
        "secreted_proteins = secreted_proteins.read()\n",
        "secreted_proteins = secreted_proteins.split(\">sp\")[1:]\n",
        "secreted_proteins = {\"Header\":[protein.split(\"\\n\", 1)[0] for protein in secreted_proteins], \n",
        "                \"Sequence\": [protein.split(\"\\n\",1)[1].replace(\"\\n\", \"\") for protein in secreted_proteins], \n",
        "                \"Label\": \"secreted\"}\n",
        "secreted_proteins = pd.DataFrame(secreted_proteins)\n",
        "                "
      ],
      "execution_count": 0,
      "outputs": []
    },
    {
      "cell_type": "markdown",
      "metadata": {
        "id": "UKHLY-oyuimf",
        "colab_type": "text"
      },
      "source": [
        "##### Preparing the blind test proteins file"
      ]
    },
    {
      "cell_type": "code",
      "metadata": {
        "id": "Eizk2nvpquEx",
        "colab_type": "code",
        "colab": {}
      },
      "source": [
        "blind_test = open(bio_path + \"blind_test.fasta.txt\", 'r')\n",
        "blind_test = blind_test.read()\n",
        "blind_test = blind_test.split(\">\")[1:]\n",
        "\n",
        "blind_test = {\"Header\":[protein.split(\"\\n\", 1)[0] for protein in blind_test], \n",
        "              \"Sequence\": [protein.split(\"\\n\",1)[1].replace(\"\\n\", \"\") for protein in blind_test],\n",
        "              \"Label\": \"mito\"} \n",
        "# we put mito label just as a hack, so that the predictor will stop complayining\n",
        "# ignore the label field for the blind_test dataframe and just focus on the prediction column\n",
        "blind_test = pd.DataFrame(blind_test)"
      ],
      "execution_count": 0,
      "outputs": []
    },
    {
      "cell_type": "markdown",
      "metadata": {
        "id": "1tRvYA67uqIM",
        "colab_type": "text"
      },
      "source": [
        "#### Checking our available data"
      ]
    },
    {
      "cell_type": "code",
      "metadata": {
        "id": "Epu-5NgQupdT",
        "colab_type": "code",
        "outputId": "a9315fcf-b520-4789-c6bd-d8dfb4e1d05e",
        "colab": {
          "base_uri": "https://localhost:8080/",
          "height": 136
        }
      },
      "source": [
        "print(\"For this experiment, we have available:\\n\")\n",
        "print(str(len(cito_proteins))     + \" Cytosolic proteins;\")\n",
        "print(str(len(secreted_proteins)) + \" Secreted proteins;\")\n",
        "print(str(len(nucleus_proteins))  + \" Nuclear proteins;\" )\n",
        "print(str(len(mito_proteins))     + \" Mitochondrial proteins;\")\n",
        "print(str(len(blind_test))        + \" Blind test proteins;\")"
      ],
      "execution_count": 10,
      "outputs": [
        {
          "output_type": "stream",
          "text": [
            "For this experiment, we have available:\n",
            "\n",
            "3314 Cytosolic proteins;\n",
            "1605 Secreted proteins;\n",
            "3314 Nuclear proteins;\n",
            "1299 Mitochondrial proteins;\n",
            "20 Blind test proteins;\n"
          ],
          "name": "stdout"
        }
      ]
    },
    {
      "cell_type": "markdown",
      "metadata": {
        "id": "hIQbYVRDvISa",
        "colab_type": "text"
      },
      "source": [
        "## Preparing different train/dev/test splits for cross-validation"
      ]
    },
    {
      "cell_type": "markdown",
      "metadata": {
        "id": "9eqGuZ8x8PNp",
        "colab_type": "text"
      },
      "source": [
        "Here, we take all  available labeled proteins and split them in equal-sized chunks, where the distribution of the type of proteins is the same across each chunk. The chunk size wil differ for each ratio of splits we inted to use"
      ]
    },
    {
      "cell_type": "code",
      "metadata": {
        "id": "VyC3Ic6v-nzJ",
        "colab_type": "code",
        "colab": {}
      },
      "source": [
        "available_data = pd.concat([cito_proteins, secreted_proteins, nucleus_proteins, mito_proteins])\n",
        "available_data = available_data.sample(frac=1).reset_index(drop=True)"
      ],
      "execution_count": 0,
      "outputs": []
    },
    {
      "cell_type": "markdown",
      "metadata": {
        "id": "Gp14gHO09xKT",
        "colab_type": "text"
      },
      "source": [
        "#### 60% train, 20% validation, 20% test \n",
        "(k-fold cross-validation with k = 5)"
      ]
    },
    {
      "cell_type": "code",
      "metadata": {
        "id": "SGI0yDpN_RUR",
        "colab_type": "code",
        "colab": {}
      },
      "source": [
        "data_splits = []\n",
        "\n",
        "for i in range(5):\n",
        "  train, dev, test = np.split(available_data.sample(frac=1), [int(.6*len(available_data)), int(.8*len(available_data))])\n",
        "  train = train.reset_index(drop=True)\n",
        "  dev   = dev.reset_index(drop=True)\n",
        "  test  = test.reset_index(drop=True)\n",
        "\n",
        "  data_splits.append({\"df\":(train, dev, test)})\n"
      ],
      "execution_count": 0,
      "outputs": []
    },
    {
      "cell_type": "markdown",
      "metadata": {
        "id": "0uO7mv5dU_JE",
        "colab_type": "text"
      },
      "source": [
        "# Reading and preparing the Dataset "
      ]
    },
    {
      "cell_type": "code",
      "metadata": {
        "id": "2Yu9VpqG-817",
        "colab_type": "code",
        "colab": {}
      },
      "source": [
        "class ProteinReader(DatasetReader):\n",
        "  def __init__(self, lazy=False, vocab: Vocabulary=None, token_indexers = None) -> None:\n",
        "    super().__init__(lazy=lazy)\n",
        "    self.reject_probs = None\n",
        "    self._token_indexers = token_indexers or {\"tokens\": SingleIdTokenIndexer(lowercase_tokens=False)}\n",
        "  \n",
        "  def _read(self, data:pd.DataFrame)->Iterator[Instance]:\n",
        "\n",
        "    for index, row in data.iterrows():\n",
        "      header = row[\"Header\"]\n",
        "      sequence = row[\"Sequence\"]\n",
        "      label = row[\"Label\"]\n",
        "  \n",
        "      yield self.text_to_instance(header, sequence, label)\n",
        "  \n",
        "  def text_to_instance(self, header: str, sequence: str, label)->Instance:\n",
        "    sequence_field = TextField([Token(w) for w in sequence], token_indexers = self._token_indexers)\n",
        "    label_field = LabelField(label)\n",
        "    \n",
        "    \n",
        "    return Instance({\"tokens\": sequence_field, \"label\": label_field})"
      ],
      "execution_count": 0,
      "outputs": []
    },
    {
      "cell_type": "code",
      "metadata": {
        "id": "JN_7qyuBwVVj",
        "colab_type": "code",
        "colab": {
          "base_uri": "https://localhost:8080/",
          "height": 289
        },
        "outputId": "e63f7dc4-e983-4e9a-b4fa-2038d4ef939e"
      },
      "source": [
        "reader = ProteinReader()\n",
        "\n",
        "for data_split in data_splits:\n",
        "  train_data = reader.read(data_split[\"df\"][0])\n",
        "  dev_data   = reader.read(data_split[\"df\"][1])\n",
        "  test_data  = reader.read(data_split[\"df\"][2])\n",
        "\n",
        "  data_split[\"inst\"] = (train_data, dev_data, test_data)\n",
        "\n",
        "vocab = Vocabulary.from_instances(train_data + dev_data + test_data)\n",
        "iterator = BucketIterator(batch_size=64, biggest_batch_first=True, sorting_keys=[(\"tokens\", \"num_tokens\")])\n",
        "iterator.index_with(vocab)"
      ],
      "execution_count": 14,
      "outputs": [
        {
          "output_type": "stream",
          "text": [
            "5719it [00:06, 862.04it/s] \n",
            "1906it [00:02, 679.58it/s] \n",
            "1907it [00:02, 825.43it/s] \n",
            "5719it [00:06, 853.60it/s] \n",
            "1906it [00:01, 1501.74it/s]\n",
            "1907it [00:03, 563.68it/s]\n",
            "5719it [00:06, 904.39it/s]\n",
            "1906it [00:01, 1497.96it/s]\n",
            "1907it [00:01, 1469.21it/s]\n",
            "5719it [00:06, 818.00it/s] \n",
            "1906it [00:01, 1491.17it/s]\n",
            "1907it [00:05, 369.83it/s]\n",
            "5719it [00:03, 1453.99it/s]\n",
            "1906it [00:01, 1534.92it/s]\n",
            "1907it [00:06, 312.27it/s]\n",
            "100%|██████████| 9532/9532 [00:02<00:00, 3807.05it/s]\n"
          ],
          "name": "stderr"
        }
      ]
    },
    {
      "cell_type": "markdown",
      "metadata": {
        "id": "u-_j-t-5gRKG",
        "colab_type": "text"
      },
      "source": [
        "# Preparing the Predictor class\n",
        "\n",
        "This is the class that will help us get our predictions and metrics, from our trained models"
      ]
    },
    {
      "cell_type": "code",
      "metadata": {
        "id": "duakhtKPgXr5",
        "colab_type": "code",
        "colab": {}
      },
      "source": [
        "def tonp(tsr): return tsr.detach().cpu().numpy()\n",
        "\n",
        "def get_label(prediction):\n",
        "  return np.argmax(prediction)\n",
        "\n",
        "class Predictor:\n",
        "    def __init__(self, model: Model, iterator,\n",
        "                 cuda_device: int=CUDA_DEVICE) -> None:\n",
        "        self.model = model\n",
        "        self.iterator = iterator\n",
        "        self.cuda_device = cuda_device\n",
        "         \n",
        "    def _extract_data(self, batch) -> np.ndarray:\n",
        "        out_dict = self.model(**batch)\n",
        "        return expit(tonp(out_dict[\"class_logits\"]))\n",
        "     \n",
        "    def predict(self, ds) -> np.ndarray:\n",
        "        pred_generator = self.iterator(ds, num_epochs=1, shuffle=False)\n",
        "        self.model.eval()\n",
        "        pred_generator_tqdm = tqdm(pred_generator,\n",
        "                                   total=self.iterator.get_num_batches(ds))\n",
        "        preds = []\n",
        "        with torch.no_grad():\n",
        "            for batch in pred_generator_tqdm:\n",
        "                batch = nn_util.move_to_device(batch, self.cuda_device)\n",
        "                preds.append(self._extract_data(batch))\n",
        "\n",
        "        return np.concatenate(preds, axis=0)\n",
        "\n",
        "    def update_dataset_with_predictions(self, predictions, data):\n",
        "      predictions = F.softmax(torch.Tensor(predictions), dim = 1).numpy()\n",
        "      labels = np.apply_along_axis(get_label, axis=1, arr=predictions)\n",
        "      confidence = np.apply_along_axis(max, axis = 1, arr = predictions)\n",
        "\n",
        "      res = pd.DataFrame({\"PredictionIndex\": labels, \"Confidence\":confidence})\n",
        "      res[\"Prediction\"] = res[\"PredictionIndex\"].apply(lambda x: vocab.get_token_from_index(x, namespace = 'labels'))\n",
        "      \n",
        "      # data = pd.read_csv(path)\n",
        "      if data.shape[0] == res.shape[0]:\n",
        "        data['Prediction'] = res['Prediction']\n",
        "        data['Confidence'] = res['Confidence']\n",
        "        return data\n",
        "      else:\n",
        "        print(\"\\nShape of predictions and shape of passed dataframe are incompatible\")\n",
        "      return None\n",
        "    \n",
        "    def getConfusionMatrix(self, data):\n",
        "      return pd.crosstab(data['Label'], data['Prediction'])\n",
        "\n",
        "    def getAccuracy(self, data):\n",
        "      return sum((data['Label'] == data[\"Prediction\"]).tolist()) / data.shape[0]\n",
        "\n",
        "    def getMetricsReport(self, data):\n",
        "      return metrics.classification_report(data['Label'], data['Prediction'], digits=3)\n",
        "\n",
        "    def plot_confusion_matrix(self, cm, classes, normalize=False, title='Confusion matrix', cmap=plt.cm.Blues):\n",
        "        \"\"\"\n",
        "        This function prints and plots the confusion matrix.\n",
        "        Normalization can be applied by setting `normalize=True`.\n",
        "        \"\"\" \n",
        "        import itertools\n",
        "        if normalize:\n",
        "            cm = cm.astype('float') / cm.sum(axis=1)[:, np.newaxis]\n",
        "\n",
        "\n",
        "        plt.figure(figsize=(6,6))\n",
        "        plt.imshow(cm, interpolation='nearest', cmap=cmap)\n",
        "        plt.title(title)\n",
        "        plt.colorbar()\n",
        "        tick_marks = np.arange(len(classes))\n",
        "        plt.xticks(tick_marks, classes, rotation=45)\n",
        "        plt.yticks(tick_marks, classes)\n",
        "\n",
        "        fmt = '.2f' if normalize else 'd'\n",
        "        thresh = cm.max() / 2.\n",
        "        for i, j in itertools.product(range(cm.shape[0]), range(cm.shape[1])):\n",
        "            plt.text(j, i, format(cm[i, j], fmt),\n",
        "                    horizontalalignment=\"center\",\n",
        "                    color=\"white\" if cm[i, j] > thresh else \"black\")\n",
        "\n",
        "        plt.ylabel('True label')\n",
        "        plt.xlabel('Predicted label')\n",
        "        plt.tight_layout()"
      ],
      "execution_count": 0,
      "outputs": []
    },
    {
      "cell_type": "markdown",
      "metadata": {
        "id": "5Z-7tDPGZScE",
        "colab_type": "text"
      },
      "source": [
        "# Models"
      ]
    },
    {
      "cell_type": "markdown",
      "metadata": {
        "id": "BwqqNT7UtmYJ",
        "colab_type": "text"
      },
      "source": [
        "During development we ran each of the models bellow on all of the data splits. However, for the sake of brevity, here we train just the first model on all 5 splits and give summarised results, while the rest of the models are trained on just one split (otherwise you are looking at spending a lot of time in this notebook). Simply modify each model's training loop and make it similar to the first one's to train them on all splits as well."
      ]
    },
    {
      "cell_type": "markdown",
      "metadata": {
        "id": "hdz-MS2bCy0y",
        "colab_type": "text"
      },
      "source": [
        "### LSTM Encoder Model"
      ]
    },
    {
      "cell_type": "code",
      "metadata": {
        "id": "Af79Ow5tZtcV",
        "colab_type": "code",
        "colab": {}
      },
      "source": [
        "class LSTMModel(Model):\n",
        "  def __init__(self, protein_embeddings: TextFieldEmbedder, protein_seq_encoder: Seq2VecEncoder,\n",
        "               out_sz :int=4, vocab: Vocabulary=None):\n",
        "    super().__init__(vocab)\n",
        "    self.protein_embeddings = protein_embeddings\n",
        "    self.protein_seq_encoder = protein_seq_encoder\n",
        "    self.out_sz = out_sz\n",
        "\n",
        "    self.first_projection = nn.Linear(self.protein_seq_encoder.get_output_dim(), int(self.protein_seq_encoder.get_output_dim() /2 ))\n",
        "    self.last_projection = nn.Linear(int(self.protein_seq_encoder.get_output_dim() /2 ), out_sz)\n",
        "\n",
        "    self.loss = nn.BCEWithLogitsLoss()\n",
        "  \n",
        "  # tokens: Dict[str, torch.Tensor], id, label: torch.Tensor\n",
        "  def forward(self, tokens, label) -> torch.Tensor:\n",
        "\n",
        "    mask = get_text_field_mask(tokens)\n",
        "    embeddings = self.protein_embeddings(tokens)\n",
        "\n",
        "    state = self.protein_seq_encoder(embeddings, mask)\n",
        "\n",
        "    state = F.relu(self.first_projection(state))\n",
        "    class_logits = self.last_projection(state)\n",
        "\n",
        "    one_hot_label = F.one_hot(label.long(), self.out_sz).float()\n",
        "\n",
        "    output = {\"class_logits\": class_logits}\n",
        "    output[\"loss\"] = self.loss(class_logits, one_hot_label)\n",
        "\n",
        "    return output"
      ],
      "execution_count": 0,
      "outputs": []
    },
    {
      "cell_type": "markdown",
      "metadata": {
        "id": "mWpftCe7yxqv",
        "colab_type": "text"
      },
      "source": [
        "Training loop for each of the split (again, only this model will be trained all splits, while the rest will be trained on just one split)"
      ]
    },
    {
      "cell_type": "code",
      "metadata": {
        "id": "MtX-yjvFyU9t",
        "colab_type": "code",
        "colab": {}
      },
      "source": [
        "EMBEDDING_DIM = 300\n",
        "HIDDEN_DIM    = 300\n",
        "NUM_EPOCHS    = 20\n",
        "\n",
        "models_per_split = []\n",
        "for data_split in data_splits:\n",
        "  train_data = data_split[\"inst\"][0]\n",
        "  dev_data   = data_split[\"inst\"][1]\n",
        "  test_data  = data_split[\"inst\"][2]\n",
        "\n",
        "  token_embedding = Embedding(num_embeddings=vocab.get_vocab_size(), embedding_dim=EMBEDDING_DIM, padding_index=0)\n",
        "  protein_embeddings: TextFieldEmbedder = BasicTextFieldEmbedder({\"tokens\": token_embedding})\n",
        "\n",
        "  protein_seq_encoder: Seq2VecEncoder = PytorchSeq2VecWrapper(nn.LSTM(EMBEDDING_DIM, HIDDEN_DIM, bidirectional=True, num_layers = 1, batch_first=True))\n",
        "\n",
        "  model = LSTMModel(protein_embeddings, protein_seq_encoder).to(device)\n",
        "  CUDA_DEVICE = 0\n",
        "\n",
        "  trainer = Trainer(\n",
        "      model=model,\n",
        "      optimizer=optim.Adam(model.parameters(), lr=0.005),\n",
        "      iterator=iterator,\n",
        "      train_dataset=train_data,\n",
        "      validation_dataset=dev_data,\n",
        "      patience=3,\n",
        "      cuda_device=CUDA_DEVICE,\n",
        "      num_epochs=NUM_EPOCHS,\n",
        "  )\n",
        "\n",
        "  trainer.train()\n",
        "  print(\"\\n\\nModel Trained\\n\")\n",
        "  models_per_split.append(model)\n",
        "\n",
        "  \n"
      ],
      "execution_count": 0,
      "outputs": []
    },
    {
      "cell_type": "markdown",
      "metadata": {
        "id": "hkFnay4Se83R",
        "colab_type": "text"
      },
      "source": [
        "#### Evaluating Results"
      ]
    },
    {
      "cell_type": "code",
      "metadata": {
        "id": "HqoXFP_vgGe3",
        "colab_type": "code",
        "colab": {}
      },
      "source": [
        "# Again, for the sake of brevity, we display the results of the model trained on just the first split\n",
        "# The results for the entire architecture, are the average of the results of the models in the list models_per_split\n",
        "\n",
        "index = 0\n",
        "model = models_per_split[index]\n",
        "train_data = data_splits[index][\"inst\"][0]\n",
        "dev_data   = data_splits[index][\"inst\"][1]\n",
        "test_data  = data_splits[index][\"inst\"][2]\n",
        "\n",
        "seq_iterator = BasicIterator(batch_size=64)\n",
        "seq_iterator.index_with(vocab)\n",
        "predictor = Predictor(model, seq_iterator, cuda_device=CUDA_DEVICE)\n",
        "\n",
        "train_predictions = predictor.predict(train_data)\n",
        "dev_predictions   = predictor.predict(dev_data)\n",
        "test_predictions  = predictor.predict(test_data)\n",
        "\n",
        "updated_train_data = predictor.update_dataset_with_predictions(train_predictions, df_train_data)\n",
        "updated_dev_data   = predictor.update_dataset_with_predictions(dev_predictions, df_dev_data)\n",
        "updated_test_data  = predictor.update_dataset_with_predictions(test_predictions, df_test_data)\n",
        "\n",
        "print(\"\\n\\nTrain Accuracy: \" + str(predictor.getAccuracy(updated_train_data)))\n",
        "print(\"Dev Accuracy: \"     + str(predictor.getAccuracy(updated_dev_data)))\n",
        "print(\"Test Accuracy: \"    + str(predictor.getAccuracy(updated_test_data)))\n",
        "\n",
        "print(\"\\nGorodkin Coeff. - Train: \" + str(matthews_corrcoef(updated_train_data['Label'], updated_train_data['Prediction'])))\n",
        "print(\"Gorodkin Coeff. - Dev: \"   + str(matthews_corrcoef(updated_dev_data['Label'], updated_dev_data['Prediction'])))\n",
        "print(\"Gorodkin Coeff. - Test: \"  + str(matthews_corrcoef(updated_test_data['Label'], updated_test_data['Prediction'])))"
      ],
      "execution_count": 0,
      "outputs": []
    },
    {
      "cell_type": "code",
      "metadata": {
        "id": "C7hgE6AUNkp1",
        "colab_type": "code",
        "colab": {}
      },
      "source": [
        "print(\"Metrics Report:\\n\")\n",
        "print(predictor.getMetricsReport(updated_test_data))"
      ],
      "execution_count": 0,
      "outputs": []
    },
    {
      "cell_type": "markdown",
      "metadata": {
        "id": "JfplQ7cG_Vjq",
        "colab_type": "text"
      },
      "source": [
        "### CNN Encoder Model"
      ]
    },
    {
      "cell_type": "code",
      "metadata": {
        "id": "FQS19pVDDZLT",
        "colab_type": "code",
        "colab": {}
      },
      "source": [
        "class CNNModel(Model):\n",
        "  def __init__(self, protein_embeddings: TextFieldEmbedder, protein_seq_encoder: Seq2VecEncoder,\n",
        "               out_sz :int=4, vocab: Vocabulary=None):\n",
        "    super().__init__(vocab)\n",
        "    self.protein_embeddings = protein_embeddings\n",
        "    self.protein_seq_encoder = protein_seq_encoder\n",
        "    self.out_sz = out_sz\n",
        "    self.projection = nn.Linear(self.protein_seq_encoder.get_output_dim(), out_sz)\n",
        "    self.loss = nn.BCEWithLogitsLoss()\n",
        "  \n",
        "  # tokens: Dict[str, torch.Tensor], id, label: torch.Tensor\n",
        "  def forward(self, tokens, label) -> torch.Tensor:\n",
        "\n",
        "    mask = get_text_field_mask(tokens)\n",
        "    embeddings = self.protein_embeddings(tokens)\n",
        "    state = self.protein_seq_encoder(embeddings, mask)\n",
        "\n",
        "    class_logits = self.projection(state)\n",
        "    one_hot_label = F.one_hot(label.long(), self.out_sz).float()\n",
        "\n",
        "    output = {\"class_logits\": class_logits}\n",
        "    output[\"loss\"] = self.loss(class_logits, one_hot_label)\n",
        "\n",
        "    return output"
      ],
      "execution_count": 0,
      "outputs": []
    },
    {
      "cell_type": "code",
      "metadata": {
        "id": "85wcLfSv_Y-q",
        "colab_type": "code",
        "colab": {}
      },
      "source": [
        "train_data = data_splits[0][\"inst\"][0]\n",
        "dev_data   = data_splits[0][\"inst\"][1]\n",
        "test_data  = data_splits[0][\"inst\"][2]\n",
        "\n",
        "df_train_data = data_splits[0][\"df\"][0]\n",
        "df_dev_data   = data_splits[0][\"df\"][1]\n",
        "df_test_data  = data_splits[0][\"df\"][2]\n",
        "\n",
        "EMBEDDING_DIM = 300\n",
        "HIDDEN_DIM    = 300\n",
        "NUM_EPOCHS    = 30\n",
        "\n",
        "token_embedding = Embedding(num_embeddings=vocab.get_vocab_size(), embedding_dim=EMBEDDING_DIM, padding_index=0)\n",
        "protein_embeddings: TextFieldEmbedder = BasicTextFieldEmbedder({\"tokens\": token_embedding})\n",
        "\n",
        "protein_seq_encoder = CnnEncoder(embedding_dim=EMBEDDING_DIM, num_filters=300, ngram_filter_sizes = (2, 3, 4, 5)) \n",
        "\n",
        "model = CNNModel(protein_embeddings, protein_seq_encoder).to(device)\n",
        "CUDA_DEVICE = 0\n",
        "\n",
        "trainer = Trainer(\n",
        "    model=model,\n",
        "    optimizer=optim.Adam(model.parameters(), lr=0.001),\n",
        "    iterator=iterator,\n",
        "    train_dataset=train_data,\n",
        "    validation_dataset=dev_data,\n",
        "    patience=2,\n",
        "    cuda_device=CUDA_DEVICE,\n",
        "    num_epochs=NUM_EPOCHS,\n",
        ")\n",
        "\n",
        "trainer.train()\n",
        "gc.collect()"
      ],
      "execution_count": 0,
      "outputs": []
    },
    {
      "cell_type": "code",
      "metadata": {
        "id": "xFU-4V44gAsV",
        "colab_type": "code",
        "colab": {}
      },
      "source": [
        "seq_iterator = BasicIterator(batch_size=64)\n",
        "seq_iterator.index_with(vocab)\n",
        "predictor = Predictor(model, seq_iterator, cuda_device=CUDA_DEVICE)\n",
        "\n",
        "train_predictions = predictor.predict(train_data)\n",
        "dev_predictions   = predictor.predict(dev_data)\n",
        "test_predictions  = predictor.predict(test_data)\n",
        "\n",
        "updated_train_data = predictor.update_dataset_with_predictions(train_predictions, df_train_data)\n",
        "updated_dev_data   = predictor.update_dataset_with_predictions(dev_predictions, df_dev_data)\n",
        "updated_test_data  = predictor.update_dataset_with_predictions(test_predictions, df_test_data)\n",
        "\n",
        "print(\"\\n\\nTrain Accuracy: \" + str(predictor.getAccuracy(updated_train_data)))\n",
        "print(\"Dev Accuracy: \"     + str(predictor.getAccuracy(updated_dev_data)))\n",
        "print(\"Test Accuracy: \"    + str(predictor.getAccuracy(updated_test_data)))\n",
        "\n",
        "print(\"\\nGorodkin Coeff. - Train: \" + str(matthews_corrcoef(updated_train_data['Label'], updated_train_data['Prediction'])))\n",
        "print(\"Gorodkin Coeff. - Dev: \"   + str(matthews_corrcoef(updated_dev_data['Label'], updated_dev_data['Prediction'])))\n",
        "print(\"Gorodkin Coeff. - Test: \"  + str(matthews_corrcoef(updated_test_data['Label'], updated_test_data['Prediction'])))"
      ],
      "execution_count": 0,
      "outputs": []
    },
    {
      "cell_type": "code",
      "metadata": {
        "id": "IqdHeMjJ0Kdr",
        "colab_type": "code",
        "colab": {}
      },
      "source": [
        "print(\"Metrics Report:\\n\")\n",
        "print(predictor.getMetricsReport(updated_test_data))"
      ],
      "execution_count": 0,
      "outputs": []
    },
    {
      "cell_type": "markdown",
      "metadata": {
        "id": "N1Izp0cGbL22",
        "colab_type": "text"
      },
      "source": [
        "### CNN - LSTM Hybrid 1"
      ]
    },
    {
      "cell_type": "code",
      "metadata": {
        "id": "GRpvOkiRJevD",
        "colab_type": "code",
        "colab": {}
      },
      "source": [
        "class LSTM_CNN_Model(Model):\n",
        "  def __init__(self, protein_embeddings: TextFieldEmbedder, protein_LSTM_encoder: Seq2SeqEncoder, \n",
        "               protein_CNN_encoder: Seq2VecEncoder, out_sz :int=4, vocab: Vocabulary=None):\n",
        "    super().__init__(vocab)\n",
        "    self.protein_embeddings = protein_embeddings\n",
        "    self.protein_LSTM_encoder = protein_LSTM_encoder\n",
        "    self.protein_CNN_encoder = protein_CNN_encoder\n",
        "    self.out_sz = out_sz\n",
        "\n",
        "    self.first_projection = nn.Linear(self.protein_CNN_encoder.get_output_dim(), int(self.protein_CNN_encoder.get_output_dim() /2 ))\n",
        "    self.last_projection = nn.Linear(int(self.protein_CNN_encoder.get_output_dim() /2 ), out_sz)\n",
        "\n",
        "    self.loss = nn.BCEWithLogitsLoss()\n",
        "  \n",
        "  # tokens: Dict[str, torch.Tensor], id, label: torch.Tensor\n",
        "  def forward(self, tokens, label) -> torch.Tensor:\n",
        "\n",
        "    mask = get_text_field_mask(tokens)\n",
        "    embeddings = self.protein_embeddings(tokens)\n",
        "    \n",
        "    lstm_encodings = self.protein_LSTM_encoder(embeddings, mask)\n",
        "    lstm_mask = get_text_field_mask({\"tokens\":lstm_encodings})\n",
        "    \n",
        "    state = self.protein_CNN_encoder(lstm_encodings, lstm_mask)\n",
        "\n",
        "    state = F.relu(self.first_projection(state))\n",
        "    class_logits = self.last_projection(state)\n",
        "    \n",
        "    one_hot_label = F.one_hot(label.long(), self.out_sz).float()\n",
        "\n",
        "    output = {\"class_logits\": class_logits}\n",
        "    output[\"loss\"] = self.loss(class_logits, one_hot_label)\n",
        "\n",
        "    return output"
      ],
      "execution_count": 0,
      "outputs": []
    },
    {
      "cell_type": "code",
      "metadata": {
        "id": "36YQXS8AJrS7",
        "colab_type": "code",
        "colab": {
          "base_uri": "https://localhost:8080/",
          "height": 749
        },
        "outputId": "f1e71a71-acf2-4afb-e23b-d086d0997809"
      },
      "source": [
        "train_data = data_splits[0][\"inst\"][0]\n",
        "dev_data   = data_splits[0][\"inst\"][1]\n",
        "test_data  = data_splits[0][\"inst\"][2]\n",
        "\n",
        "df_train_data = data_splits[0][\"df\"][0]\n",
        "df_dev_data   = data_splits[0][\"df\"][1]\n",
        "df_test_data  = data_splits[0][\"df\"][2]\n",
        "\n",
        "EMBEDDING_DIM = 256\n",
        "HIDDEN_DIM    = 256\n",
        "NUM_EPOCHS    = 30\n",
        "\n",
        "token_embedding = Embedding(num_embeddings=vocab.get_vocab_size(), embedding_dim=EMBEDDING_DIM, padding_index=0)\n",
        "protein_embeddings: TextFieldEmbedder = BasicTextFieldEmbedder({\"tokens\": token_embedding})\n",
        "\n",
        "protein_LSTM_encoder = PytorchSeq2SeqWrapper(nn.LSTM(EMBEDDING_DIM, HIDDEN_DIM, bidirectional=True, batch_first=True))\n",
        "protein_CNN_encoder = CnnEncoder(embedding_dim=protein_LSTM_encoder.get_output_dim(), num_filters=300, ngram_filter_sizes = (2, 3, 4, 5))\n",
        "\n",
        "\n",
        "model = LSTM_CNN_Model(protein_embeddings, protein_LSTM_encoder, protein_CNN_encoder).to(device)\n",
        "CUDA_DEVICE = 0\n",
        "\n",
        "trainer = Trainer(\n",
        "    model=model,\n",
        "    optimizer=optim.Adam(model.parameters(), lr=0.002),\n",
        "    iterator=iterator,\n",
        "    train_dataset=train_data,\n",
        "    validation_dataset=dev_data,\n",
        "    patience=3,\n",
        "    cuda_device=CUDA_DEVICE,\n",
        "    num_epochs=NUM_EPOCHS,\n",
        ")\n",
        "\n",
        "trainer.train()\n",
        "gc.collect()"
      ],
      "execution_count": 17,
      "outputs": [
        {
          "output_type": "stream",
          "text": [
            "loss: 0.5306 ||: 100%|██████████| 90/90 [00:26<00:00,  3.35it/s]\n",
            "loss: 0.5036 ||: 100%|██████████| 30/30 [00:03<00:00,  7.53it/s]\n",
            "loss: 0.5163 ||: 100%|██████████| 90/90 [00:24<00:00,  3.73it/s]\n",
            "loss: 0.4756 ||: 100%|██████████| 30/30 [00:03<00:00,  9.77it/s]\n",
            "loss: 0.4744 ||: 100%|██████████| 90/90 [00:24<00:00,  3.73it/s]\n",
            "loss: 0.4385 ||: 100%|██████████| 30/30 [00:03<00:00,  9.50it/s]\n",
            "loss: 0.4046 ||: 100%|██████████| 90/90 [00:24<00:00,  3.72it/s]\n",
            "loss: 0.3878 ||: 100%|██████████| 30/30 [00:03<00:00,  9.62it/s]\n",
            "loss: 0.3521 ||: 100%|██████████| 90/90 [00:24<00:00,  3.73it/s]\n",
            "loss: 0.3744 ||: 100%|██████████| 30/30 [00:03<00:00,  9.55it/s]\n",
            "loss: 0.3302 ||: 100%|██████████| 90/90 [00:24<00:00,  3.72it/s]\n",
            "loss: 0.3575 ||: 100%|██████████| 30/30 [00:03<00:00,  9.48it/s]\n",
            "loss: 0.3219 ||: 100%|██████████| 90/90 [00:24<00:00,  3.72it/s]\n",
            "loss: 0.3352 ||: 100%|██████████| 30/30 [00:03<00:00,  9.72it/s]\n",
            "loss: 0.3113 ||: 100%|██████████| 90/90 [00:24<00:00,  3.71it/s]\n",
            "loss: 0.3441 ||: 100%|██████████| 30/30 [00:03<00:00,  9.46it/s]\n",
            "loss: 0.2978 ||: 100%|██████████| 90/90 [00:24<00:00,  3.70it/s]\n",
            "loss: 0.3458 ||: 100%|██████████| 30/30 [00:03<00:00,  9.53it/s]\n",
            "loss: 0.2994 ||: 100%|██████████| 90/90 [00:24<00:00,  3.74it/s]\n",
            "loss: 0.3317 ||: 100%|██████████| 30/30 [00:03<00:00,  9.52it/s]\n",
            "loss: 0.2830 ||: 100%|██████████| 90/90 [00:24<00:00,  3.72it/s]\n",
            "loss: 0.3246 ||: 100%|██████████| 30/30 [00:03<00:00,  9.56it/s]\n",
            "  0%|          | 0/90 [00:00<?, ?it/s]"
          ],
          "name": "stderr"
        },
        {
          "output_type": "error",
          "ename": "KeyboardInterrupt",
          "evalue": "ignored",
          "traceback": [
            "\u001b[0;31m---------------------------------------------------------------------------\u001b[0m",
            "\u001b[0;31mKeyboardInterrupt\u001b[0m                         Traceback (most recent call last)",
            "\u001b[0;32m<ipython-input-17-a54933c6e7fb>\u001b[0m in \u001b[0;36m<module>\u001b[0;34m()\u001b[0m\n\u001b[1;32m     32\u001b[0m )\n\u001b[1;32m     33\u001b[0m \u001b[0;34m\u001b[0m\u001b[0m\n\u001b[0;32m---> 34\u001b[0;31m \u001b[0mtrainer\u001b[0m\u001b[0;34m.\u001b[0m\u001b[0mtrain\u001b[0m\u001b[0;34m(\u001b[0m\u001b[0;34m)\u001b[0m\u001b[0;34m\u001b[0m\u001b[0;34m\u001b[0m\u001b[0m\n\u001b[0m\u001b[1;32m     35\u001b[0m \u001b[0mgc\u001b[0m\u001b[0;34m.\u001b[0m\u001b[0mcollect\u001b[0m\u001b[0;34m(\u001b[0m\u001b[0;34m)\u001b[0m\u001b[0;34m\u001b[0m\u001b[0;34m\u001b[0m\u001b[0m\n",
            "\u001b[0;32m/usr/local/lib/python3.6/dist-packages/allennlp/training/trainer.py\u001b[0m in \u001b[0;36mtrain\u001b[0;34m(self)\u001b[0m\n\u001b[1;32m    476\u001b[0m         \u001b[0;32mfor\u001b[0m \u001b[0mepoch\u001b[0m \u001b[0;32min\u001b[0m \u001b[0mrange\u001b[0m\u001b[0;34m(\u001b[0m\u001b[0mepoch_counter\u001b[0m\u001b[0;34m,\u001b[0m \u001b[0mself\u001b[0m\u001b[0;34m.\u001b[0m\u001b[0m_num_epochs\u001b[0m\u001b[0;34m)\u001b[0m\u001b[0;34m:\u001b[0m\u001b[0;34m\u001b[0m\u001b[0;34m\u001b[0m\u001b[0m\n\u001b[1;32m    477\u001b[0m             \u001b[0mepoch_start_time\u001b[0m \u001b[0;34m=\u001b[0m \u001b[0mtime\u001b[0m\u001b[0;34m.\u001b[0m\u001b[0mtime\u001b[0m\u001b[0;34m(\u001b[0m\u001b[0;34m)\u001b[0m\u001b[0;34m\u001b[0m\u001b[0;34m\u001b[0m\u001b[0m\n\u001b[0;32m--> 478\u001b[0;31m             \u001b[0mtrain_metrics\u001b[0m \u001b[0;34m=\u001b[0m \u001b[0mself\u001b[0m\u001b[0;34m.\u001b[0m\u001b[0m_train_epoch\u001b[0m\u001b[0;34m(\u001b[0m\u001b[0mepoch\u001b[0m\u001b[0;34m)\u001b[0m\u001b[0;34m\u001b[0m\u001b[0;34m\u001b[0m\u001b[0m\n\u001b[0m\u001b[1;32m    479\u001b[0m \u001b[0;34m\u001b[0m\u001b[0m\n\u001b[1;32m    480\u001b[0m             \u001b[0;31m# get peak of memory usage\u001b[0m\u001b[0;34m\u001b[0m\u001b[0;34m\u001b[0m\u001b[0;34m\u001b[0m\u001b[0m\n",
            "\u001b[0;32m/usr/local/lib/python3.6/dist-packages/allennlp/training/trainer.py\u001b[0m in \u001b[0;36m_train_epoch\u001b[0;34m(self, epoch)\u001b[0m\n\u001b[1;32m    323\u001b[0m                 \u001b[0;32mraise\u001b[0m \u001b[0mValueError\u001b[0m\u001b[0;34m(\u001b[0m\u001b[0;34m\"nan loss encountered\"\u001b[0m\u001b[0;34m)\u001b[0m\u001b[0;34m\u001b[0m\u001b[0;34m\u001b[0m\u001b[0m\n\u001b[1;32m    324\u001b[0m \u001b[0;34m\u001b[0m\u001b[0m\n\u001b[0;32m--> 325\u001b[0;31m             \u001b[0mloss\u001b[0m\u001b[0;34m.\u001b[0m\u001b[0mbackward\u001b[0m\u001b[0;34m(\u001b[0m\u001b[0;34m)\u001b[0m\u001b[0;34m\u001b[0m\u001b[0;34m\u001b[0m\u001b[0m\n\u001b[0m\u001b[1;32m    326\u001b[0m \u001b[0;34m\u001b[0m\u001b[0m\n\u001b[1;32m    327\u001b[0m             \u001b[0mtrain_loss\u001b[0m \u001b[0;34m+=\u001b[0m \u001b[0mloss\u001b[0m\u001b[0;34m.\u001b[0m\u001b[0mitem\u001b[0m\u001b[0;34m(\u001b[0m\u001b[0;34m)\u001b[0m\u001b[0;34m\u001b[0m\u001b[0;34m\u001b[0m\u001b[0m\n",
            "\u001b[0;32m/usr/local/lib/python3.6/dist-packages/torch/tensor.py\u001b[0m in \u001b[0;36mbackward\u001b[0;34m(self, gradient, retain_graph, create_graph)\u001b[0m\n\u001b[1;32m    193\u001b[0m                 \u001b[0mproducts\u001b[0m\u001b[0;34m.\u001b[0m \u001b[0mDefaults\u001b[0m \u001b[0mto\u001b[0m\u001b[0;31m \u001b[0m\u001b[0;31m`\u001b[0m\u001b[0;31m`\u001b[0m\u001b[0;32mFalse\u001b[0m\u001b[0;31m`\u001b[0m\u001b[0;31m`\u001b[0m\u001b[0;34m.\u001b[0m\u001b[0;34m\u001b[0m\u001b[0;34m\u001b[0m\u001b[0m\n\u001b[1;32m    194\u001b[0m         \"\"\"\n\u001b[0;32m--> 195\u001b[0;31m         \u001b[0mtorch\u001b[0m\u001b[0;34m.\u001b[0m\u001b[0mautograd\u001b[0m\u001b[0;34m.\u001b[0m\u001b[0mbackward\u001b[0m\u001b[0;34m(\u001b[0m\u001b[0mself\u001b[0m\u001b[0;34m,\u001b[0m \u001b[0mgradient\u001b[0m\u001b[0;34m,\u001b[0m \u001b[0mretain_graph\u001b[0m\u001b[0;34m,\u001b[0m \u001b[0mcreate_graph\u001b[0m\u001b[0;34m)\u001b[0m\u001b[0;34m\u001b[0m\u001b[0;34m\u001b[0m\u001b[0m\n\u001b[0m\u001b[1;32m    196\u001b[0m \u001b[0;34m\u001b[0m\u001b[0m\n\u001b[1;32m    197\u001b[0m     \u001b[0;32mdef\u001b[0m \u001b[0mregister_hook\u001b[0m\u001b[0;34m(\u001b[0m\u001b[0mself\u001b[0m\u001b[0;34m,\u001b[0m \u001b[0mhook\u001b[0m\u001b[0;34m)\u001b[0m\u001b[0;34m:\u001b[0m\u001b[0;34m\u001b[0m\u001b[0;34m\u001b[0m\u001b[0m\n",
            "\u001b[0;32m/usr/local/lib/python3.6/dist-packages/torch/autograd/__init__.py\u001b[0m in \u001b[0;36mbackward\u001b[0;34m(tensors, grad_tensors, retain_graph, create_graph, grad_variables)\u001b[0m\n\u001b[1;32m     97\u001b[0m     Variable._execution_engine.run_backward(\n\u001b[1;32m     98\u001b[0m         \u001b[0mtensors\u001b[0m\u001b[0;34m,\u001b[0m \u001b[0mgrad_tensors\u001b[0m\u001b[0;34m,\u001b[0m \u001b[0mretain_graph\u001b[0m\u001b[0;34m,\u001b[0m \u001b[0mcreate_graph\u001b[0m\u001b[0;34m,\u001b[0m\u001b[0;34m\u001b[0m\u001b[0;34m\u001b[0m\u001b[0m\n\u001b[0;32m---> 99\u001b[0;31m         allow_unreachable=True)  # allow_unreachable flag\n\u001b[0m\u001b[1;32m    100\u001b[0m \u001b[0;34m\u001b[0m\u001b[0m\n\u001b[1;32m    101\u001b[0m \u001b[0;34m\u001b[0m\u001b[0m\n",
            "\u001b[0;31mKeyboardInterrupt\u001b[0m: "
          ]
        }
      ]
    },
    {
      "cell_type": "code",
      "metadata": {
        "id": "DFcQmrNNKDIR",
        "colab_type": "code",
        "outputId": "70784fe5-005f-4f34-cf1d-fdb5888573d5",
        "colab": {
          "base_uri": "https://localhost:8080/",
          "height": 221
        }
      },
      "source": [
        "seq_iterator = BasicIterator(batch_size=64)\n",
        "seq_iterator.index_with(vocab)\n",
        "predictor = Predictor(model, seq_iterator, cuda_device=CUDA_DEVICE)\n",
        "\n",
        "train_predictions = predictor.predict(train_data)\n",
        "dev_predictions   = predictor.predict(dev_data)\n",
        "test_predictions  = predictor.predict(test_data)\n",
        "\n",
        "updated_train_data = predictor.update_dataset_with_predictions(train_predictions, df_train_data)\n",
        "updated_dev_data   = predictor.update_dataset_with_predictions(dev_predictions, df_dev_data)\n",
        "updated_test_data  = predictor.update_dataset_with_predictions(test_predictions, df_test_data)\n",
        "\n",
        "print(\"\\n\\nTrain Accuracy: \" + str(predictor.getAccuracy(updated_train_data)))\n",
        "print(\"Dev Accuracy: \"     + str(predictor.getAccuracy(updated_dev_data)))\n",
        "print(\"Test Accuracy: \"    + str(predictor.getAccuracy(updated_test_data)))\n",
        "\n",
        "print(\"\\nGorodkin Coeff. - Train: \" + str(matthews_corrcoef(updated_train_data['Label'], updated_train_data['Prediction'])))\n",
        "print(\"Gorodkin Coeff. - Dev: \"   + str(matthews_corrcoef(updated_dev_data['Label'], updated_dev_data['Prediction'])))\n",
        "print(\"Gorodkin Coeff. - Test: \"  + str(matthews_corrcoef(updated_test_data['Label'], updated_test_data['Prediction'])))"
      ],
      "execution_count": 0,
      "outputs": [
        {
          "output_type": "stream",
          "text": [
            "100%|██████████| 90/90 [00:23<00:00,  3.89it/s]\n",
            "100%|██████████| 30/30 [00:07<00:00,  3.93it/s]\n",
            "100%|██████████| 30/30 [00:08<00:00,  3.65it/s]"
          ],
          "name": "stderr"
        },
        {
          "output_type": "stream",
          "text": [
            "\n",
            "\n",
            "Train Accuracy: 0.642594859241126\n",
            "Dev Accuracy: 0.602308499475341\n",
            "Test Accuracy: 0.5920293654955427\n",
            "\n",
            "Gorodkin Coeff. - Train: 0.6150793531578164\n",
            "Gorodkin Coeff. - Dev: 0.5434327005649392\n",
            "Gorodkin Coeff. - Test: 0.5409657716823505\n"
          ],
          "name": "stdout"
        },
        {
          "output_type": "stream",
          "text": [
            "\n"
          ],
          "name": "stderr"
        }
      ]
    },
    {
      "cell_type": "code",
      "metadata": {
        "id": "UWfcmAlt3ExS",
        "colab_type": "code",
        "outputId": "dedbb261-fbb9-44ae-a564-ddd19166dbde",
        "colab": {
          "base_uri": "https://localhost:8080/",
          "height": 238
        }
      },
      "source": [
        "print(\"Metrics Report:\\n\")\n",
        "print(predictor.getMetricsReport(updated_test_data))"
      ],
      "execution_count": 0,
      "outputs": [
        {
          "output_type": "stream",
          "text": [
            "Metrics Report:\n",
            "\n",
            "              precision    recall  f1-score   support\n",
            "\n",
            "        cito      0.475     0.952     0.634       681\n",
            "        mito      0.860     0.717     0.782       240\n",
            "     nucleus      0.243     0.013     0.025       671\n",
            "    secreted      0.954     0.930     0.942       315\n",
            "\n",
            "    accuracy                          0.588      1907\n",
            "   macro avg      0.633     0.653     0.596      1907\n",
            "weighted avg      0.521     0.588     0.489      1907\n",
            "\n"
          ],
          "name": "stdout"
        }
      ]
    },
    {
      "cell_type": "code",
      "metadata": {
        "id": "PjK2Q9qiJp2i",
        "colab_type": "code",
        "outputId": "29453bd0-e482-4f9d-8e97-0c07f6c3c671",
        "colab": {
          "base_uri": "https://localhost:8080/",
          "height": 418
        }
      },
      "source": [
        "from sklearn.metrics import confusion_matrix\n",
        "cm = confusion_matrix(updated_test_data['Label'], updated_test_data['Prediction'], labels =  ['cito', 'mito', 'nucleus', 'secreted'] )\n",
        "predictor.plot_confusion_matrix(cm, ['cito', 'mito', 'nucleus', 'secreted'], \n",
        "                                normalize=True, title = 'Confusion matrix')"
      ],
      "execution_count": 0,
      "outputs": [
        {
          "output_type": "display_data",
          "data": {
            "image/png": "[encoded data removed]",
            "text/plain": [
              "<Figure size 432x432 with 2 Axes>"
            ]
          },
          "metadata": {
            "tags": []
          }
        }
      ]
    },
    {
      "cell_type": "markdown",
      "metadata": {
        "id": "6YLgHnRz7EIZ",
        "colab_type": "text"
      },
      "source": [
        "### CNN - LSTM Hybrid 2"
      ]
    },
    {
      "cell_type": "code",
      "metadata": {
        "id": "wtJPEGYd7IH7",
        "colab_type": "code",
        "colab": {}
      },
      "source": [
        "class CNN_LSTM_Model(Model):\n",
        "  def __init__(self, protein_embeddings: TextFieldEmbedder, cnn_encoder: nn.Conv2d, protein_LSTM_encoder: Seq2VecEncoder, \n",
        "               out_sz :int=4, vocab: Vocabulary=None):\n",
        "    super().__init__(vocab)\n",
        "    self.protein_embeddings = protein_embeddings\n",
        "    self.cnn_encoder = cnn_encoder\n",
        "\n",
        "    self.protein_LSTM_encoder = protein_LSTM_encoder\n",
        "    self.out_sz = out_sz\n",
        "\n",
        "    self.first_projection = nn.Linear(self.protein_LSTM_encoder.get_output_dim(), int(self.protein_LSTM_encoder.get_output_dim() /2 ))\n",
        "    self.last_projection = nn.Linear(int(self.protein_LSTM_encoder.get_output_dim() /2 ), out_sz)\n",
        "\n",
        "    self.loss = nn.BCEWithLogitsLoss()\n",
        "\n",
        "  def get_mask_from_batch(self, x):\n",
        "    ret = ()\n",
        "    for instance in x:\n",
        "      instance = instance.clone().detach().cpu().numpy()\n",
        "      ret = ret + (self.get_mask(instance),)\n",
        "  \n",
        "    return torch.stack(ret)\n",
        "\n",
        "  def get_mask(self, instance):\n",
        "    mask = np.logical_not((instance[1:] == instance[:-1]).all(axis = 1))\n",
        "    mask = torch.Tensor(mask)\n",
        "\n",
        "    if mask[-1] and not sum(instance[-1] == instance[-2]):\n",
        "      mask = torch.cat((mask.int(), torch.tensor([1], dtype = torch.int32))).long()\n",
        "    else:\n",
        "      mask = torch.cat((mask.int(), torch.tensor([0], dtype = torch.int32))).long()\n",
        "    return mask\n",
        "  \n",
        "  # tokens: Dict[str, torch.Tensor], id, label: torch.Tensor\n",
        "  def forward(self, tokens, label) -> torch.Tensor:\n",
        "\n",
        "    mask = get_text_field_mask(tokens)\n",
        "    embeddings = self.protein_embeddings(tokens)\n",
        "    embeddings.unsqueeze_(dim = 1)\n",
        "\n",
        "    cnn_encoded_proteins = self.cnn_encoder(embeddings)\n",
        "    cnn_encoded_proteins = cnn_encoded_proteins.squeeze().transpose(1,2)\n",
        "    cnn_encoded_proteins_mask = self.get_mask_from_batch(cnn_encoded_proteins).to(device)\n",
        "    \n",
        "    state = self.protein_LSTM_encoder(cnn_encoded_proteins, cnn_encoded_proteins_mask)\n",
        "    state = F.relu(self.first_projection(state))\n",
        "\n",
        "    class_logits = self.last_projection(state)\n",
        "    \n",
        "    one_hot_label = F.one_hot(label.long(), self.out_sz).float()\n",
        "\n",
        "    output = {\"class_logits\": class_logits}\n",
        "    output[\"loss\"] = self.loss(class_logits, one_hot_label)\n",
        "\n",
        "    return output"
      ],
      "execution_count": 0,
      "outputs": []
    },
    {
      "cell_type": "code",
      "metadata": {
        "id": "_X_pxsq67IQ2",
        "colab_type": "code",
        "colab": {}
      },
      "source": [
        "train_data = data_splits[0][\"inst\"][0]\n",
        "dev_data   = data_splits[0][\"inst\"][1]\n",
        "test_data  = data_splits[0][\"inst\"][2]\n",
        "\n",
        "df_train_data = data_splits[0][\"df\"][0]\n",
        "df_dev_data   = data_splits[0][\"df\"][1]\n",
        "df_test_data  = data_splits[0][\"df\"][2]\n",
        "\n",
        "EMBEDDING_DIM            = 300\n",
        "HIDDEN_DIM               = 300\n",
        "CONVOLUTED_EMBEDDING_DIM = 300\n",
        "NUM_EPOCHS               = 30\n",
        "\n",
        "token_embedding = Embedding(num_embeddings=vocab.get_vocab_size(), embedding_dim=EMBEDDING_DIM, padding_index=0)\n",
        "protein_embeddings: TextFieldEmbedder = BasicTextFieldEmbedder({\"tokens\": token_embedding})\n",
        "\n",
        "cnn_encoder = Conv2d(in_channels=1, out_channels=CONVOLUTED_EMBEDDING_DIM, kernel_size=(4, EMBEDDING_DIM), stride = (4,1), padding=(0,0))\n",
        "protein_LSTM_encoder: Seq2VecEncoder = PytorchSeq2VecWrapper(nn.LSTM(CONVOLUTED_EMBEDDING_DIM, HIDDEN_DIM, bidirectional=True, batch_first=True))\n",
        "\n",
        "model = CNN_LSTM_Model(protein_embeddings, cnn_encoder, protein_LSTM_encoder).to(device)\n",
        "CUDA_DEVICE = 0\n",
        "\n",
        "print(\"Here\")\n",
        "trainer = Trainer(\n",
        "    model=model,\n",
        "    optimizer=optim.Adam(model.parameters(), lr=0.0005),\n",
        "    iterator=iterator,\n",
        "    train_dataset=train_data,\n",
        "    validation_dataset=dev_data,\n",
        "    patience=2,\n",
        "    cuda_device=CUDA_DEVICE,\n",
        "    num_epochs=NUM_EPOCHS,\n",
        ")\n",
        "\n",
        "trainer.train()\n",
        "gc.collect()"
      ],
      "execution_count": 0,
      "outputs": []
    },
    {
      "cell_type": "code",
      "metadata": {
        "id": "GrV9w-fe7IgV",
        "colab_type": "code",
        "colab": {}
      },
      "source": [
        "seq_iterator = BasicIterator(batch_size=64)\n",
        "seq_iterator.index_with(vocab)\n",
        "predictor = Predictor(model, seq_iterator, cuda_device=CUDA_DEVICE)\n",
        "\n",
        "train_predictions = predictor.predict(train_data)\n",
        "dev_predictions   = predictor.predict(dev_data)\n",
        "test_predictions  = predictor.predict(test_data)\n",
        "\n",
        "updated_train_data = predictor.update_dataset_with_predictions(train_predictions, df_train_data)\n",
        "updated_dev_data   = predictor.update_dataset_with_predictions(dev_predictions, df_dev_data)\n",
        "updated_test_data  = predictor.update_dataset_with_predictions(test_predictions, df_test_data)\n",
        "\n",
        "print(\"\\n\\nTrain Accuracy: \" + str(predictor.getAccuracy(updated_train_data)))\n",
        "print(\"Dev Accuracy: \"     + str(predictor.getAccuracy(updated_dev_data)))\n",
        "print(\"Test Accuracy: \"    + str(predictor.getAccuracy(updated_test_data)))\n",
        "\n",
        "print(\"\\nGorodkin Coeff. - Train: \" + str(matthews_corrcoef(updated_train_data['Label'], updated_train_data['Prediction'])))\n",
        "print(\"Gorodkin Coeff. - Dev: \"   + str(matthews_corrcoef(updated_dev_data['Label'], updated_dev_data['Prediction'])))\n",
        "print(\"Gorodkin Coeff. - Test: \"  + str(matthews_corrcoef(updated_test_data['Label'], updated_test_data['Prediction'])))"
      ],
      "execution_count": 0,
      "outputs": []
    },
    {
      "cell_type": "code",
      "metadata": {
        "id": "7Sl8Y9-i61Rz",
        "colab_type": "code",
        "outputId": "2311919c-2d66-42e6-bd60-d45da5235461",
        "colab": {
          "base_uri": "https://localhost:8080/",
          "height": 238
        }
      },
      "source": [
        "print(\"Metrics Report:\\n\")\n",
        "print(predictor.getMetricsReport(updated_test_data))"
      ],
      "execution_count": 0,
      "outputs": [
        {
          "output_type": "stream",
          "text": [
            "Metrics Report:\n",
            "\n",
            "              precision    recall  f1-score   support\n",
            "\n",
            "        cito      0.405     0.361     0.382       681\n",
            "        mito      0.837     0.725     0.777       240\n",
            "     nucleus      0.433     0.480     0.455       671\n",
            "    secreted      0.868     0.959     0.911       315\n",
            "\n",
            "    accuracy                          0.547      1907\n",
            "   macro avg      0.636     0.631     0.631      1907\n",
            "weighted avg      0.546     0.547     0.545      1907\n",
            "\n"
          ],
          "name": "stdout"
        }
      ]
    },
    {
      "cell_type": "markdown",
      "metadata": {
        "id": "eqT25ujYI056",
        "colab_type": "text"
      },
      "source": [
        "# Blind Test Prediction"
      ]
    },
    {
      "cell_type": "code",
      "metadata": {
        "id": "6OHyz_LXI6KS",
        "colab_type": "code",
        "colab": {
          "base_uri": "https://localhost:8080/",
          "height": 754
        },
        "outputId": "cece2dc3-2aa3-4d3f-e354-07089bf183d1"
      },
      "source": [
        "seq_iterator = BasicIterator(batch_size=64)\n",
        "seq_iterator.index_with(vocab)\n",
        "predictor = Predictor(model, seq_iterator, cuda_device=CUDA_DEVICE)\n",
        "\n",
        "reader = ProteinReader()\n",
        "blind_test_data = reader.read(blind_test)\n",
        "blind_test_predictions =  predictor.predict(blind_test_data)\n",
        "blind_test_predictions = predictor.update_dataset_with_predictions(blind_test_predictions, blind_test)\n",
        "\n",
        "del blind_test_predictions[\"Label\"] # see comment in cell where the blind_test file is processed\n",
        "blind_test_predictions[[\"Header\", \"Prediction\", \"Confidence\"]]"
      ],
      "execution_count": 18,
      "outputs": [
        {
          "output_type": "stream",
          "text": [
            "\n",
            "20it [00:00, 940.80it/s]\n",
            "\n",
            "  0%|          | 0/1 [00:00<?, ?it/s]\u001b[A\n",
            "100%|██████████| 1/1 [00:00<00:00,  8.30it/s]\n"
          ],
          "name": "stderr"
        },
        {
          "output_type": "execute_result",
          "data": {
            "text/html": [
              "<div>\n",
              "<style scoped>\n",
              "    .dataframe tbody tr th:only-of-type {\n",
              "        vertical-align: middle;\n",
              "    }\n",
              "\n",
              "    .dataframe tbody tr th {\n",
              "        vertical-align: top;\n",
              "    }\n",
              "\n",
              "    .dataframe thead th {\n",
              "        text-align: right;\n",
              "    }\n",
              "</style>\n",
              "<table border=\"1\" class=\"dataframe\">\n",
              "  <thead>\n",
              "    <tr style=\"text-align: right;\">\n",
              "      <th></th>\n",
              "      <th>Header</th>\n",
              "      <th>Prediction</th>\n",
              "      <th>Confidence</th>\n",
              "    </tr>\n",
              "  </thead>\n",
              "  <tbody>\n",
              "    <tr>\n",
              "      <th>0</th>\n",
              "      <td>SEQ677</td>\n",
              "      <td>secreted</td>\n",
              "      <td>0.467377</td>\n",
              "    </tr>\n",
              "    <tr>\n",
              "      <th>1</th>\n",
              "      <td>SEQ231</td>\n",
              "      <td>secreted</td>\n",
              "      <td>0.445681</td>\n",
              "    </tr>\n",
              "    <tr>\n",
              "      <th>2</th>\n",
              "      <td>SEQ871</td>\n",
              "      <td>secreted</td>\n",
              "      <td>0.472120</td>\n",
              "    </tr>\n",
              "    <tr>\n",
              "      <th>3</th>\n",
              "      <td>SEQ388</td>\n",
              "      <td>secreted</td>\n",
              "      <td>0.373054</td>\n",
              "    </tr>\n",
              "    <tr>\n",
              "      <th>4</th>\n",
              "      <td>SEQ122</td>\n",
              "      <td>nucleus</td>\n",
              "      <td>0.308769</td>\n",
              "    </tr>\n",
              "    <tr>\n",
              "      <th>5</th>\n",
              "      <td>SEQ758</td>\n",
              "      <td>nucleus</td>\n",
              "      <td>0.323403</td>\n",
              "    </tr>\n",
              "    <tr>\n",
              "      <th>6</th>\n",
              "      <td>SEQ333</td>\n",
              "      <td>mito</td>\n",
              "      <td>0.284239</td>\n",
              "    </tr>\n",
              "    <tr>\n",
              "      <th>7</th>\n",
              "      <td>SEQ937</td>\n",
              "      <td>nucleus</td>\n",
              "      <td>0.284580</td>\n",
              "    </tr>\n",
              "    <tr>\n",
              "      <th>8</th>\n",
              "      <td>SEQ351</td>\n",
              "      <td>mito</td>\n",
              "      <td>0.335036</td>\n",
              "    </tr>\n",
              "    <tr>\n",
              "      <th>9</th>\n",
              "      <td>SEQ202</td>\n",
              "      <td>mito</td>\n",
              "      <td>0.380241</td>\n",
              "    </tr>\n",
              "    <tr>\n",
              "      <th>10</th>\n",
              "      <td>SEQ608</td>\n",
              "      <td>mito</td>\n",
              "      <td>0.334629</td>\n",
              "    </tr>\n",
              "    <tr>\n",
              "      <th>11</th>\n",
              "      <td>SEQ402</td>\n",
              "      <td>cito</td>\n",
              "      <td>0.302578</td>\n",
              "    </tr>\n",
              "    <tr>\n",
              "      <th>12</th>\n",
              "      <td>SEQ433</td>\n",
              "      <td>secreted</td>\n",
              "      <td>0.365934</td>\n",
              "    </tr>\n",
              "    <tr>\n",
              "      <th>13</th>\n",
              "      <td>SEQ821</td>\n",
              "      <td>secreted</td>\n",
              "      <td>0.467991</td>\n",
              "    </tr>\n",
              "    <tr>\n",
              "      <th>14</th>\n",
              "      <td>SEQ322</td>\n",
              "      <td>nucleus</td>\n",
              "      <td>0.320344</td>\n",
              "    </tr>\n",
              "    <tr>\n",
              "      <th>15</th>\n",
              "      <td>SEQ982</td>\n",
              "      <td>nucleus</td>\n",
              "      <td>0.323842</td>\n",
              "    </tr>\n",
              "    <tr>\n",
              "      <th>16</th>\n",
              "      <td>SEQ951</td>\n",
              "      <td>mito</td>\n",
              "      <td>0.268168</td>\n",
              "    </tr>\n",
              "    <tr>\n",
              "      <th>17</th>\n",
              "      <td>SEQ173</td>\n",
              "      <td>nucleus</td>\n",
              "      <td>0.308427</td>\n",
              "    </tr>\n",
              "    <tr>\n",
              "      <th>18</th>\n",
              "      <td>SEQ862</td>\n",
              "      <td>nucleus</td>\n",
              "      <td>0.310905</td>\n",
              "    </tr>\n",
              "    <tr>\n",
              "      <th>19</th>\n",
              "      <td>SEQ224</td>\n",
              "      <td>mito</td>\n",
              "      <td>0.297887</td>\n",
              "    </tr>\n",
              "  </tbody>\n",
              "</table>\n",
              "</div>"
            ],
            "text/plain": [
              "    Header Prediction  Confidence\n",
              "0   SEQ677   secreted    0.467377\n",
              "1   SEQ231   secreted    0.445681\n",
              "2   SEQ871   secreted    0.472120\n",
              "3   SEQ388   secreted    0.373054\n",
              "4   SEQ122    nucleus    0.308769\n",
              "5   SEQ758    nucleus    0.323403\n",
              "6   SEQ333       mito    0.284239\n",
              "7   SEQ937    nucleus    0.284580\n",
              "8   SEQ351       mito    0.335036\n",
              "9   SEQ202       mito    0.380241\n",
              "10  SEQ608       mito    0.334629\n",
              "11  SEQ402       cito    0.302578\n",
              "12  SEQ433   secreted    0.365934\n",
              "13  SEQ821   secreted    0.467991\n",
              "14  SEQ322    nucleus    0.320344\n",
              "15  SEQ982    nucleus    0.323842\n",
              "16  SEQ951       mito    0.268168\n",
              "17  SEQ173    nucleus    0.308427\n",
              "18  SEQ862    nucleus    0.310905\n",
              "19  SEQ224       mito    0.297887"
            ]
          },
          "metadata": {
            "tags": []
          },
          "execution_count": 18
        }
      ]
    }
  ]
}